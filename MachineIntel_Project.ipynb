{
 "cells": [
  {
   "cell_type": "code",
   "execution_count": null,
   "id": "7f20d637",
   "metadata": {},
   "outputs": [],
   "source": [
    "import warnings\n",
    "warnings.filterwarnings('ignore')\n",
    "\n",
    "from collections import Counter\n",
    "from tabulate import tabulate\n",
    "\n",
    "import numpy as np\n",
    "import pandas as pd\n",
    "import matplotlib.pyplot as plt\n",
    "import seaborn as sb\n",
    "\n",
    "from sklearn.preprocessing import OneHotEncoder\n",
    "from sklearn.preprocessing import MultiLabelBinarizer\n",
    "\n",
    "%matplotlib inline\n",
    "pd.set_option('display.max_rows', None)"
   ]
  },
  {
   "cell_type": "code",
   "execution_count": null,
   "id": "f7625f59",
   "metadata": {},
   "outputs": [],
   "source": [
    "df = pd.read_excel('PRODUCT_SURVEY RESULTS_2023.xlsx', index_col = None)"
   ]
  },
  {
   "cell_type": "code",
   "execution_count": null,
   "id": "85ba0447",
   "metadata": {},
   "outputs": [],
   "source": [
    "df.set_index('No.', inplace = True)"
   ]
  },
  {
   "cell_type": "markdown",
   "id": "813b7ca2",
   "metadata": {},
   "source": [
    "### General Overview of data"
   ]
  },
  {
   "cell_type": "code",
   "execution_count": null,
   "id": "0110b1ba",
   "metadata": {},
   "outputs": [],
   "source": [
    "df.head()"
   ]
  },
  {
   "cell_type": "code",
   "execution_count": null,
   "id": "f0304dd4",
   "metadata": {},
   "outputs": [],
   "source": [
    "df.shape"
   ]
  },
  {
   "cell_type": "code",
   "execution_count": null,
   "id": "52bbe38d",
   "metadata": {},
   "outputs": [],
   "source": [
    "df.columns"
   ]
  },
  {
   "cell_type": "markdown",
   "id": "639b2a98",
   "metadata": {},
   "source": [
    "### Renaming col_names for readability"
   ]
  },
  {
   "cell_type": "code",
   "execution_count": null,
   "id": "ebb6f47c",
   "metadata": {},
   "outputs": [],
   "source": [
    "col_names = list(df.columns)\n",
    "\n",
    "new_col_names = [\n",
    "    'age_group',\n",
    "    'gender',\n",
    "    'car_ownership_history',\n",
    "    'marital_status',\n",
    "    'car_purchase_factors',\n",
    "    'customize_vehicle_likelihood_no_extra_charge',\n",
    "    'desired_exterior_component_customization',\n",
    "    'desired_interior_component_customization',\n",
    "    'customization_surcharge_tolerance',\n",
    "    'design_own_component_likelihood',\n",
    "    'personalized_design_surcharge_tolerance',\n",
    "    'require_designer'\n",
    "]\n",
    "\n",
    "dict_to_rename = dict()\n",
    "\n",
    "for idx, col_name in enumerate(col_names):\n",
    "    dict_to_rename[col_name] = new_col_names[idx]\n",
    "\n",
    "renamed_df = df.rename(dict_to_rename, axis = 1)"
   ]
  },
  {
   "cell_type": "code",
   "execution_count": null,
   "id": "51b9600d",
   "metadata": {},
   "outputs": [],
   "source": [
    "renamed_df.dtypes"
   ]
  },
  {
   "cell_type": "code",
   "execution_count": null,
   "id": "34f7e970",
   "metadata": {},
   "outputs": [],
   "source": [
    "renamed_df.head()"
   ]
  },
  {
   "cell_type": "code",
   "execution_count": null,
   "id": "376e797a",
   "metadata": {},
   "outputs": [],
   "source": []
  },
  {
   "cell_type": "code",
   "execution_count": null,
   "id": "ee43635d",
   "metadata": {},
   "outputs": [],
   "source": []
  },
  {
   "cell_type": "markdown",
   "id": "36fabfe3",
   "metadata": {},
   "source": [
    "### Check for Null Data\n",
    "* 3 features with null data\n",
    "    * car_purchase_factors\n",
    "    * desired_exterior_component\n",
    "    * require_designer"
   ]
  },
  {
   "cell_type": "code",
   "execution_count": null,
   "id": "0cf0f7cc",
   "metadata": {
    "scrolled": false
   },
   "outputs": [],
   "source": [
    "print(\"Features\", \"                                    Null Values\")\n",
    "renamed_df.isnull().sum()"
   ]
  },
  {
   "cell_type": "code",
   "execution_count": null,
   "id": "0f87d98a",
   "metadata": {},
   "outputs": [],
   "source": [
    "print('features', 'unique_values'.rjust(50,' '))\n",
    "print('-'*60)\n",
    "print(renamed_df.apply(lambda col: len(col.unique())))"
   ]
  },
  {
   "cell_type": "code",
   "execution_count": null,
   "id": "a4944412",
   "metadata": {},
   "outputs": [],
   "source": []
  },
  {
   "cell_type": "code",
   "execution_count": null,
   "id": "b59a34d4",
   "metadata": {},
   "outputs": [],
   "source": []
  },
  {
   "cell_type": "markdown",
   "id": "7353a4cf",
   "metadata": {},
   "source": [
    "### Handling car_purchase_factors Null value\n",
    "* 37 unique values actually arrays of different permutations"
   ]
  },
  {
   "cell_type": "code",
   "execution_count": null,
   "id": "7f536f13",
   "metadata": {},
   "outputs": [],
   "source": [
    "renamed_df['car_purchase_factors'].unique()"
   ]
  },
  {
   "cell_type": "code",
   "execution_count": null,
   "id": "36531daa",
   "metadata": {
    "scrolled": false
   },
   "outputs": [],
   "source": [
    "renamed_df[renamed_df['car_purchase_factors'].isna()]"
   ]
  },
  {
   "cell_type": "markdown",
   "id": "f6d8abb9",
   "metadata": {},
   "source": [
    "##### Only 1 entry missing for car_purchase_factor column\n",
    "* age_group : 20-30\n",
    "* gender : Male\n",
    "* marital_status : single\n",
    "* car_ownership_history : never own car but planning to purchase"
   ]
  },
  {
   "cell_type": "code",
   "execution_count": null,
   "id": "b5329969",
   "metadata": {},
   "outputs": [],
   "source": [
    "# Extracting row entries with similar characteristics as null value entry male\n",
    "male_youths = renamed_df[(renamed_df['age_group'] == '20-30') & (renamed_df['gender'] == 'Male') & (renamed_df['marital_status'] == 'Single') & (renamed_df['car_ownership_history'] == 'Do not own a car, but planning to purchase in future')].dropna()\n",
    "male_youths.rename(dict_to_rename, inplace = True)\n",
    "male_youths"
   ]
  },
  {
   "cell_type": "code",
   "execution_count": null,
   "id": "196a967c",
   "metadata": {},
   "outputs": [],
   "source": [
    "len(male_youths)"
   ]
  },
  {
   "cell_type": "code",
   "execution_count": null,
   "id": "4b1b434e",
   "metadata": {
    "scrolled": true
   },
   "outputs": [],
   "source": [
    "male_youths_purchase_factors = list()\n",
    "male_youths_num_factors = list()\n",
    "\n",
    "for row in male_youths['car_purchase_factors'].unique(): # For each array of factors of each male\n",
    "    male_youths_num_factors.append(len(row.split(';'))) # Extract number of factors of each male\n",
    "    for factor in row.split(';'):\n",
    "        male_youths_purchase_factors.append(factor)\n",
    "\n",
    "print(\"Factors | Count\")\n",
    "for i in Counter(male_youths_num_factors).most_common():\n",
    "    print(str(i[0]).center(7), '|' ,str(i[1]).rjust(3))\n",
    "    \n",
    "print()\n",
    "for i in Counter(male_youths_purchase_factors).most_common():\n",
    "    print(i[0] , ':', i[1])"
   ]
  },
  {
   "cell_type": "markdown",
   "id": "9c621ca2",
   "metadata": {},
   "source": [
    "* Most male (age 20-30) (single) have 4 purchase_factors\n",
    "* Price, Technological features, Brand name & functionality emerge as top 4"
   ]
  },
  {
   "cell_type": "code",
   "execution_count": null,
   "id": "7c053b78",
   "metadata": {},
   "outputs": [],
   "source": [
    "# Replace null value with top 4 purchase factors \n",
    "renamed_df.at[18,'car_purchase_factors'] = 'Price;Technological features;Brand name;Functionality'"
   ]
  },
  {
   "cell_type": "code",
   "execution_count": null,
   "id": "2c72a40c",
   "metadata": {},
   "outputs": [],
   "source": [
    "renamed_df.isnull().sum()"
   ]
  },
  {
   "cell_type": "code",
   "execution_count": null,
   "id": "9a6deb10",
   "metadata": {},
   "outputs": [],
   "source": []
  },
  {
   "cell_type": "code",
   "execution_count": null,
   "id": "16741fca",
   "metadata": {},
   "outputs": [],
   "source": []
  },
  {
   "cell_type": "markdown",
   "id": "64950697",
   "metadata": {},
   "source": [
    "### Handling desired__exterior_component_customization Null values"
   ]
  },
  {
   "cell_type": "code",
   "execution_count": null,
   "id": "7f1eae1d",
   "metadata": {},
   "outputs": [],
   "source": [
    "renamed_df['desired_exterior_component_customization'].unique()"
   ]
  },
  {
   "cell_type": "code",
   "execution_count": null,
   "id": "7f7ecee8",
   "metadata": {},
   "outputs": [],
   "source": [
    "renamed_df[renamed_df['desired_exterior_component_customization'].isna()]"
   ]
  },
  {
   "cell_type": "markdown",
   "id": "a8c14f84",
   "metadata": {},
   "source": [
    "Since both null data entries owned a car before, it is highly likely that NaN represents that owner does not want to customize the exterior of their car."
   ]
  },
  {
   "cell_type": "code",
   "execution_count": null,
   "id": "80abb30e",
   "metadata": {},
   "outputs": [],
   "source": [
    "renamed_df.at[3,'desired_exterior_component_customization'] = 'Not customizing'\n",
    "renamed_df.at[4,'desired_exterior_component_customization'] = 'Not customizing'"
   ]
  },
  {
   "cell_type": "code",
   "execution_count": null,
   "id": "f6a84528",
   "metadata": {},
   "outputs": [],
   "source": [
    "renamed_df.isnull().sum()"
   ]
  },
  {
   "cell_type": "markdown",
   "id": "e015609c",
   "metadata": {},
   "source": [
    "### Handling require_designer Null values"
   ]
  },
  {
   "cell_type": "code",
   "execution_count": null,
   "id": "2d654f1a",
   "metadata": {},
   "outputs": [],
   "source": [
    "renamed_df['require_designer'].unique()"
   ]
  },
  {
   "cell_type": "code",
   "execution_count": null,
   "id": "e9e638c8",
   "metadata": {
    "scrolled": true
   },
   "outputs": [],
   "source": [
    "renamed_df[renamed_df['require_designer'].isna()]"
   ]
  },
  {
   "cell_type": "markdown",
   "id": "af3971b6",
   "metadata": {},
   "source": [
    "##### 9 customers have info that can be extracted from another column\n",
    "* i.e set require_designer = Yes \n",
    "* Because they indicated under \"design_own_component_likelihood\" that they will do it \"Only with professional help\""
   ]
  },
  {
   "cell_type": "code",
   "execution_count": null,
   "id": "47355822",
   "metadata": {},
   "outputs": [],
   "source": [
    "require_professional_df = renamed_df[(renamed_df['require_designer'].isna()) & (renamed_df['design_own_component_likelihood'] == 'Only with professional help')]\n",
    "require_professional_df # to extract indexes of customers"
   ]
  },
  {
   "cell_type": "code",
   "execution_count": null,
   "id": "a8a6417e",
   "metadata": {},
   "outputs": [],
   "source": [
    "no_need_designer = renamed_df['require_designer'].unique()[2]\n",
    "need_designer = renamed_df['require_designer'].unique()[1]\n",
    "\n",
    "print(no_need_designer)\n",
    "print(need_designer)"
   ]
  },
  {
   "cell_type": "code",
   "execution_count": null,
   "id": "9f906c25",
   "metadata": {},
   "outputs": [],
   "source": [
    "for idx in list(require_professional_df.index):\n",
    "    renamed_df.at[idx,'require_designer'] = need_designer"
   ]
  },
  {
   "cell_type": "code",
   "execution_count": null,
   "id": "09363d77",
   "metadata": {},
   "outputs": [],
   "source": [
    "renamed_df[renamed_df['require_designer'].isna()]"
   ]
  },
  {
   "cell_type": "markdown",
   "id": "581410cd",
   "metadata": {},
   "source": [
    "* 4 out of 6 remaining Null value customers indicated that they will not be designing own component\n",
    "* Therefore, set require_designer = No"
   ]
  },
  {
   "cell_type": "code",
   "execution_count": null,
   "id": "790a4816",
   "metadata": {},
   "outputs": [],
   "source": [
    "Not_Designing_df = renamed_df[(renamed_df['require_designer'].isna()) & (renamed_df['design_own_component_likelihood'] == 'No')]\n",
    "Not_Designing_df"
   ]
  },
  {
   "cell_type": "code",
   "execution_count": null,
   "id": "554a1ba2",
   "metadata": {},
   "outputs": [],
   "source": [
    "for idx in list(Not_Designing_df.index):\n",
    "    renamed_df.at[idx,'require_designer'] = 'Not Designing' # 0 represents not designing in encoding"
   ]
  },
  {
   "cell_type": "code",
   "execution_count": null,
   "id": "3925aa38",
   "metadata": {},
   "outputs": [],
   "source": [
    "renamed_df[renamed_df['require_designer'].isna()]"
   ]
  },
  {
   "cell_type": "markdown",
   "id": "3706cfc1",
   "metadata": {},
   "source": [
    "##### Assume the last 2 customer with NaN require_designer to mean that they do not require personal designer"
   ]
  },
  {
   "cell_type": "code",
   "execution_count": null,
   "id": "18a9117b",
   "metadata": {},
   "outputs": [],
   "source": [
    "renamed_df.at[6,'require_designer'] = no_need_designer\n",
    "renamed_df.at[14,'require_designer'] = no_need_designer"
   ]
  },
  {
   "cell_type": "code",
   "execution_count": null,
   "id": "081cc70f",
   "metadata": {},
   "outputs": [],
   "source": [
    "renamed_df.isnull().sum()"
   ]
  },
  {
   "cell_type": "markdown",
   "id": "fcc35af6",
   "metadata": {},
   "source": [
    "### Data Analysis"
   ]
  },
  {
   "cell_type": "code",
   "execution_count": null,
   "id": "d6e32165",
   "metadata": {},
   "outputs": [],
   "source": [
    "sb.set_style('darkgrid')"
   ]
  },
  {
   "cell_type": "code",
   "execution_count": null,
   "id": "d2ce4155",
   "metadata": {},
   "outputs": [],
   "source": [
    "for col in ['age_group', 'gender', 'car_ownership_history', 'marital_status','customize_vehicle_likelihood_no_extra_charge','customization_surcharge_tolerance','design_own_component_likelihood','personalized_design_surcharge_tolerance','require_designer']:\n",
    "    renamed_df[col] = renamed_df[col].astype('category')"
   ]
  },
  {
   "cell_type": "code",
   "execution_count": null,
   "id": "4b638f23",
   "metadata": {},
   "outputs": [],
   "source": []
  },
  {
   "cell_type": "code",
   "execution_count": null,
   "id": "8fa6a074",
   "metadata": {
    "scrolled": true
   },
   "outputs": [],
   "source": [
    "sb.countplot(x = 'age_group', data = renamed_df, order = renamed_df.age_group.cat.categories,\n",
    "            hue = 'gender', hue_order = ['Male', 'Female'],\n",
    "            palette = ['lightskyblue', 'lightpink'],\n",
    "            ec = 'black', hatch = '/');\n",
    "plt.xlabel(\"age_group\", fontsize = 14)\n",
    "plt.ylabel(\"count\", fontsize = 14)\n",
    "plt.xticks(fontsize = 14)\n",
    "plt.yticks(fontsize = 14)\n",
    "\n",
    "renamed_df.groupby(['age_group'])['gender'].value_counts()\n",
    "plt.legend(prop={'size': 14})"
   ]
  },
  {
   "cell_type": "markdown",
   "id": "3b2a6394",
   "metadata": {},
   "source": [
    "* Majority of data are in age_group 20-30\n",
    "* In age_group 20-30, twice as many males than females\n",
    "* Possible observation: Young Males are more interested in getting a car"
   ]
  },
  {
   "cell_type": "code",
   "execution_count": null,
   "id": "c8db0a92",
   "metadata": {},
   "outputs": [],
   "source": [
    "sb.countplot(x = 'age_group', data = renamed_df,\n",
    "            hue = 'marital_status', hue_order = ['Single', 'Married with no children', 'Married with children'],\n",
    "            palette = ['lightgreen', 'lightyellow', 'lightcoral'],\n",
    "            ec = 'black', hatch = '/')\n",
    "plt.legend(loc = 'upper right',prop={'size': 14});\n",
    "plt.xlabel(\"age_group\", fontsize = 14)\n",
    "plt.ylabel(\"count\", fontsize = 14)\n",
    "plt.xticks(fontsize = 14)\n",
    "plt.yticks(fontsize = 14)\n",
    "\n",
    "renamed_df.groupby(['age_group'])['marital_status'].value_counts()"
   ]
  },
  {
   "cell_type": "code",
   "execution_count": null,
   "id": "0004b165",
   "metadata": {},
   "outputs": [],
   "source": []
  },
  {
   "cell_type": "code",
   "execution_count": null,
   "id": "e50c92de",
   "metadata": {},
   "outputs": [],
   "source": [
    "sb.countplot(x = 'age_group', data = renamed_df,\n",
    "            hue = 'car_ownership_history',\n",
    "            palette = ['chocolate', 'silver', 'gold'],\n",
    "            ec = 'black', hatch = '/')\n",
    "plt.xlabel(\"age_group\", fontsize = 14)\n",
    "plt.ylabel(\"count\", fontsize = 14)\n",
    "plt.xticks(fontsize = 14)\n",
    "plt.yticks(fontsize = 14)\n",
    "\n",
    "plt.legend(loc = 'upper right');"
   ]
  },
  {
   "cell_type": "code",
   "execution_count": null,
   "id": "870150c6",
   "metadata": {},
   "outputs": [],
   "source": [
    "renamed_df.columns"
   ]
  },
  {
   "cell_type": "code",
   "execution_count": null,
   "id": "679c3448",
   "metadata": {},
   "outputs": [],
   "source": []
  },
  {
   "cell_type": "code",
   "execution_count": null,
   "id": "afff988a",
   "metadata": {},
   "outputs": [],
   "source": [
    "df_purchase_factors = list()\n",
    "exterior_components = list()\n",
    "interior_components = list()\n",
    "\n",
    "for row in renamed_df['car_purchase_factors'].unique(): # For each array of factors of each male\n",
    "    for factor in row.split(';'):\n",
    "        df_purchase_factors.append(factor)\n",
    "        \n",
    "for row in renamed_df['desired_exterior_component_customization'].unique(): # For each array of factors of each male\n",
    "    for factor in row.split(';'):\n",
    "        exterior_components.append(factor)\n",
    "        \n",
    "for row in renamed_df['desired_interior_component_customization'].unique(): # For each array of factors of each male\n",
    "    for factor in row.split(';'):\n",
    "        interior_components.append(factor)\n",
    "    \n"
   ]
  },
  {
   "cell_type": "code",
   "execution_count": null,
   "id": "3f18ae98",
   "metadata": {},
   "outputs": [],
   "source": [
    "Counter(df_purchase_factors).values()"
   ]
  },
  {
   "cell_type": "code",
   "execution_count": null,
   "id": "7a15ff52",
   "metadata": {},
   "outputs": [],
   "source": [
    "plt.figure(figsize=(15, 6), dpi=300)\n",
    "purchase_keys = list(Counter(df_purchase_factors).keys())\n",
    "purchase_values = list(Counter(df_purchase_factors).values())\n",
    "\n",
    "purchase_keys[-2] = \"ESG consideration\"\n",
    "\n",
    "plt.bar(purchase_keys,purchase_values , width = 0.3,\n",
    "       color = ['#2274a5', '#690500', '#183A37', '#16F4D0', '#EFCB68', '#C7A27C', '#FF6F59', '#93A3BC'])\n",
    "        \n",
    "plt.xticks(rotation = -30, fontsize = 20)\n",
    "plt.yticks(fontsize = 14)\n",
    "# plt.xlabel(\"car_purchase_factors\", fontsize = 14)\n",
    "plt.ylabel(\"count\", fontsize = 14)"
   ]
  },
  {
   "cell_type": "code",
   "execution_count": null,
   "id": "4fbca9b6",
   "metadata": {},
   "outputs": [],
   "source": []
  },
  {
   "cell_type": "code",
   "execution_count": null,
   "id": "2ff87738",
   "metadata": {},
   "outputs": [],
   "source": [
    "for i in Counter(exterior_components).most_common():\n",
    "    print(i[0])"
   ]
  },
  {
   "cell_type": "code",
   "execution_count": null,
   "id": "e238ef2e",
   "metadata": {},
   "outputs": [],
   "source": [
    "exterior_keys = [key[0] for key in Counter(exterior_components).most_common()]\n",
    "exterior_values = [value[1] for value in Counter(exterior_components).most_common()]\n",
    "exterior_keys[-1] = 'add body kit'\n",
    "plt.figure(figsize=(15, 6), dpi=300)\n",
    "plt.bar(exterior_keys,exterior_values, width = 0.3,\n",
    "        color = ['#2274a5', '#690500', '#183A37', '#16F4D0', '#EFCB68', '#C7A27C', '#FF6F59']\n",
    "       )\n",
    "plt.xticks(rotation = -30, fontsize = 20)\n",
    "plt.yticks(fontsize = 14)\n",
    "# plt.xlabel(\"exterior_components\", fontsize = 14)\n",
    "plt.ylabel(\"count\", fontsize = 14)\n",
    "\n",
    "# color = ['#2274a5', '#690500', '#183A37', '#16F4D0', '#EFCB68', '#C7A27C', '#FF6F59', '#93A3BC']"
   ]
  },
  {
   "cell_type": "code",
   "execution_count": null,
   "id": "aa323a98",
   "metadata": {},
   "outputs": [],
   "source": [
    "interior_keys = [key[0] for key in Counter(interior_components).most_common()]\n",
    "interior_values = [value[1] for value in Counter(interior_components).most_common()]\n",
    "interior_keys[4] = 'Sunblocker'\n",
    "interior_keys[5] = 'Music Player'\n",
    "plt.figure(figsize=(15, 6), dpi=300)\n",
    "plt.bar(interior_keys,interior_values,width = 0.3,\n",
    "        color = ['#2274a5', '#690500', '#183A37', '#16F4D0', '#EFCB68', '#C7A27C', '#FF6F59']\n",
    "       )\n",
    "plt.xticks(rotation = -30, fontsize = 20)\n",
    "plt.yticks(fontsize = 14)\n",
    "# plt.xlabel(\"exterior_components\", fontsize = 14)\n",
    "plt.ylabel(\"count\", fontsize = 14)\n",
    "# color = ['#2274a5', '#690500', '#183A37', '#16F4D0', '#EFCB68', '#C7A27C', '#FF6F59', '#93A3BC']"
   ]
  },
  {
   "cell_type": "markdown",
   "id": "db11b173",
   "metadata": {},
   "source": [
    "### Encoding Data\n",
    "* Nominal Encoding (Rank does not matter)\n",
    "    * One-hot encoding technique"
   ]
  },
  {
   "cell_type": "code",
   "execution_count": null,
   "id": "a8c2d414",
   "metadata": {},
   "outputs": [],
   "source": [
    "print('features', 'unique_values'.rjust(50,' '))\n",
    "print('-'*60)\n",
    "print(renamed_df.apply(lambda col: len(col.unique())))"
   ]
  },
  {
   "cell_type": "markdown",
   "id": "8f86d941",
   "metadata": {},
   "source": [
    "##### car_purchase_factors | exterior_components | interior_components have high number of unique values\n",
    "* permutations of same factors\n",
    "* Can perform association mining with these features\n",
    "\n",
    "##### Example Pipeline:\n",
    "* Given:\n",
    "    * age_group\n",
    "    * gender\n",
    "    * car_ownership_history\n",
    "    * marital status\n",
    "* Association Factors:\n",
    "    * customize_vehicle_likelihood_no_extra_charge\n",
    "    * desired_exterior_component_customization\n",
    "    * desired_interior_component_customization\n",
    "    * design_own_component_likelihood\n",
    "* Sub association:\n",
    "    * require_designer"
   ]
  },
  {
   "cell_type": "markdown",
   "id": "e0a2c99e",
   "metadata": {},
   "source": [
    "### Encoding features with low unique values first"
   ]
  },
  {
   "cell_type": "code",
   "execution_count": null,
   "id": "69afd92d",
   "metadata": {},
   "outputs": [],
   "source": [
    "renamed_df.columns"
   ]
  },
  {
   "cell_type": "code",
   "execution_count": null,
   "id": "c1823b1a",
   "metadata": {},
   "outputs": [],
   "source": []
  },
  {
   "cell_type": "code",
   "execution_count": null,
   "id": "30d5ba2b",
   "metadata": {},
   "outputs": [],
   "source": [
    "# Convert int values in certain columns to strings for One Hot Encoding\n",
    "renamed_df = renamed_df.astype({'customization_surcharge_tolerance' : 'string',\n",
    "                               'personalized_design_surcharge_tolerance' : 'string',\n",
    "                               'require_designer' : 'string'})\n",
    "\n",
    "renamed_df = renamed_df.astype({'customization_surcharge_tolerance' : 'category',\n",
    "                               'personalized_design_surcharge_tolerance' : 'category',\n",
    "                               'require_designer' : 'category'})"
   ]
  },
  {
   "cell_type": "code",
   "execution_count": null,
   "id": "a0b2184d",
   "metadata": {},
   "outputs": [],
   "source": [
    "oheObj = OneHotEncoder()\n",
    "\n",
    "cat_cols = ['age_group', 'gender', 'car_ownership_history', 'marital_status',\n",
    "       'customize_vehicle_likelihood_no_extra_charge',\n",
    "       'customization_surcharge_tolerance', 'design_own_component_likelihood',\n",
    "       'personalized_design_surcharge_tolerance', 'require_designer']\n",
    "\n",
    "feature_arr = oheObj.fit_transform(renamed_df[cat_cols]).toarray()\n",
    "feature_arr = feature_arr.astype('float32')"
   ]
  },
  {
   "cell_type": "code",
   "execution_count": null,
   "id": "e910ded2",
   "metadata": {},
   "outputs": [],
   "source": [
    "feature_arr.shape\n",
    "print(feature_arr.dtype)\n",
    "print(feature_arr)"
   ]
  },
  {
   "cell_type": "code",
   "execution_count": null,
   "id": "407da751",
   "metadata": {},
   "outputs": [],
   "source": [
    "oheObj.categories_"
   ]
  },
  {
   "cell_type": "code",
   "execution_count": null,
   "id": "492469e1",
   "metadata": {},
   "outputs": [],
   "source": [
    "feature_labels = oheObj.get_feature_names_out(cat_cols)\n",
    "feature_labels"
   ]
  },
  {
   "cell_type": "code",
   "execution_count": null,
   "id": "e57b0e98",
   "metadata": {
    "scrolled": true
   },
   "outputs": [],
   "source": []
  },
  {
   "cell_type": "code",
   "execution_count": null,
   "id": "d3129fb0",
   "metadata": {
    "scrolled": false
   },
   "outputs": [],
   "source": [
    "feature_encoded_df = pd.DataFrame(feature_arr, columns = feature_labels)\n",
    "feature_encoded_df.index += 1\n",
    "feature_encoded_df.head()\n"
   ]
  },
  {
   "cell_type": "code",
   "execution_count": null,
   "id": "6a42b5b6",
   "metadata": {},
   "outputs": [],
   "source": [
    "feature_encoded_df.shape"
   ]
  },
  {
   "cell_type": "markdown",
   "id": "f1c2a14a",
   "metadata": {},
   "source": [
    "##### Number of columns increased to 29 columns, representing 29 unique categories from the previous 9 categories specified."
   ]
  },
  {
   "cell_type": "code",
   "execution_count": null,
   "id": "d311dae2",
   "metadata": {},
   "outputs": [],
   "source": []
  },
  {
   "cell_type": "markdown",
   "id": "481b89f7",
   "metadata": {},
   "source": [
    "### Handling 3 columns with permutations of unique values\n",
    "* car_purchase_factors\n",
    "* desired_exterior_component_customization\n",
    "* desired_interior_component_customization"
   ]
  },
  {
   "cell_type": "code",
   "execution_count": null,
   "id": "a7ae26ea",
   "metadata": {
    "scrolled": true
   },
   "outputs": [],
   "source": [
    "unique_purchase_factors = set()\n",
    "unique_exterior_components = set()\n",
    "unique_interior_components = set()\n",
    "\n",
    "for idx, row in renamed_df.iterrows():\n",
    "    for factor in row['car_purchase_factors'].split(';'):\n",
    "        unique_purchase_factors.add(factor)\n",
    "    \n",
    "    try:\n",
    "        for exterior_component in row['desired_exterior_component_customization'].split(';'):\n",
    "            unique_exterior_components.add(exterior_component)\n",
    "    except AttributeError:\n",
    "        unique_exterior_components.add(row['desired_exterior_component_customization'])\n",
    "        \n",
    "    try:\n",
    "        for interior_component in row['desired_interior_component_customization'].split(';'):\n",
    "            unique_interior_components.add(interior_component)\n",
    "    except AttributeError:\n",
    "        unique_interior_components.add(row['desired_interior_component_customization'])\n",
    "        \n",
    "print(unique_purchase_factors)\n",
    "print()\n",
    "print(len(unique_purchase_factors))\n",
    "print()\n",
    "\n",
    "print(unique_exterior_components)\n",
    "print()\n",
    "print(len(unique_exterior_components))\n",
    "print()\n",
    "\n",
    "print(unique_interior_components)\n",
    "print()\n",
    "print(len(unique_interior_components))"
   ]
  },
  {
   "cell_type": "code",
   "execution_count": null,
   "id": "ff07783e",
   "metadata": {
    "scrolled": true
   },
   "outputs": [],
   "source": [
    "renamed_df.head(1)"
   ]
  },
  {
   "cell_type": "code",
   "execution_count": null,
   "id": "457efe38",
   "metadata": {},
   "outputs": [],
   "source": [
    "for idx, row in renamed_df.iterrows():\n",
    "    renamed_df.at[idx,'car_purchase_factors'] = row['car_purchase_factors'].split(';')\n",
    "    renamed_df.at[idx, 'desired_exterior_component_customization'] = row['desired_exterior_component_customization'].split(';')\n",
    "    renamed_df.at[idx, 'desired_interior_component_customization'] = row['desired_interior_component_customization'].split(';')\n",
    "    "
   ]
  },
  {
   "cell_type": "code",
   "execution_count": null,
   "id": "bf28aa68",
   "metadata": {},
   "outputs": [],
   "source": [
    "renamed_df.head(1)"
   ]
  },
  {
   "cell_type": "markdown",
   "id": "4140b5cd",
   "metadata": {},
   "source": [
    "* Only 8 unique car_purchase_factors, can encode with A - H and perform association mining\n",
    "* 7 unique exterior & interior components"
   ]
  },
  {
   "cell_type": "code",
   "execution_count": null,
   "id": "4ab740f5",
   "metadata": {},
   "outputs": [],
   "source": [
    "\n"
   ]
  },
  {
   "cell_type": "code",
   "execution_count": null,
   "id": "68c00724",
   "metadata": {},
   "outputs": [],
   "source": [
    "mlbObj = MultiLabelBinarizer()\n",
    "mlb_cols = ['desired_exterior_component_customization', 'desired_interior_component_customization']\n",
    "\n",
    "multi_encoded_df = pd.DataFrame(\n",
    "    mlbObj.fit_transform(renamed_df['car_purchase_factors']),\n",
    "    columns = mlbObj.classes_,\n",
    "    index = renamed_df['car_purchase_factors'].index\n",
    ")\n",
    "\n",
    "for col in mlb_cols:\n",
    "    multi_encoded_df = multi_encoded_df.join(\n",
    "        pd.DataFrame(\n",
    "            mlbObj.fit_transform(renamed_df[col]),\n",
    "            columns = mlbObj.classes_,\n",
    "            index = renamed_df[col].index\n",
    "        )\n",
    "    )"
   ]
  },
  {
   "cell_type": "code",
   "execution_count": null,
   "id": "1964c787",
   "metadata": {},
   "outputs": [],
   "source": [
    "new_encoded_cols = list(multi_encoded_df.columns)"
   ]
  },
  {
   "cell_type": "code",
   "execution_count": null,
   "id": "a409c89f",
   "metadata": {},
   "outputs": [],
   "source": [
    "for col in new_encoded_cols:\n",
    "    multi_encoded_df[col] = multi_encoded_df[col].astype('float32')"
   ]
  },
  {
   "cell_type": "code",
   "execution_count": null,
   "id": "60c7b168",
   "metadata": {},
   "outputs": [],
   "source": [
    "multi_encoded_df"
   ]
  },
  {
   "cell_type": "markdown",
   "id": "c8af1f49",
   "metadata": {},
   "source": [
    "### Combining feature_encoded_df & multi_encoded_df"
   ]
  },
  {
   "cell_type": "code",
   "execution_count": null,
   "id": "f8c7540c",
   "metadata": {},
   "outputs": [],
   "source": [
    "feature_encoded_df.head(2)"
   ]
  },
  {
   "cell_type": "code",
   "execution_count": null,
   "id": "e1a66f87",
   "metadata": {},
   "outputs": [],
   "source": [
    "multi_encoded_df.head(2)"
   ]
  },
  {
   "cell_type": "code",
   "execution_count": null,
   "id": "fd715e63",
   "metadata": {},
   "outputs": [],
   "source": [
    "final_encoded_df = pd.concat([feature_encoded_df, multi_encoded_df], axis = 1)"
   ]
  },
  {
   "cell_type": "code",
   "execution_count": null,
   "id": "efc2f26d",
   "metadata": {
    "scrolled": true
   },
   "outputs": [],
   "source": [
    "final_encoded_df.head()"
   ]
  },
  {
   "cell_type": "code",
   "execution_count": null,
   "id": "5aa869c7",
   "metadata": {},
   "outputs": [],
   "source": []
  },
  {
   "cell_type": "code",
   "execution_count": null,
   "id": "4ab50a8f",
   "metadata": {},
   "outputs": [],
   "source": [
    "renamed_df"
   ]
  },
  {
   "cell_type": "code",
   "execution_count": null,
   "id": "c4f20f1e",
   "metadata": {},
   "outputs": [],
   "source": []
  },
  {
   "cell_type": "code",
   "execution_count": null,
   "id": "445d3709",
   "metadata": {},
   "outputs": [],
   "source": []
  },
  {
   "cell_type": "markdown",
   "id": "dd57b999",
   "metadata": {},
   "source": [
    "### Associative Rule Mining\n",
    "\n",
    "#### Market Basket Analysis\n",
    "* Association between items\n",
    "* Bread -> 60% likelihood with Jam\n",
    "* Wants to find product with association for product suggestion / placement\n",
    "\n",
    "\n",
    "##### Possible Association\n",
    "* Aged 20-30 Then exterior component / interior component / customize vehicle / design_own_component\n",
    "\n",
    "* if-then relationship\n",
    "    * if aged 20-30 then customize vehicle\n",
    "    * if : antecedent\n",
    "    * then : consequent\n",
    "    * A => B\n",
    "    * Right placement = earn money\n",
    "* Above rules\n",
    "    * single cardinality\n",
    "    * multi cardinality\n",
    "    \n",
    "    \n",
    "#### Measure Association\n",
    "* 3 metrics to assist in measuring association\n",
    "    * Support\n",
    "        * Frequency of items\n",
    "        * Filter out items that appears less frequently\n",
    "        * frequency / total occurrence\n",
    "    * Confidence\n",
    "        * How often items occur together\n",
    "        * Removes anomaly group\n",
    "    * Lift\n",
    "        * Strength of any rule (weight)\n",
    "        * Support / Support(A) * Support(B)\n",
    "        * \n",
    "\n",
    "### Apriori Algorithm\n",
    "* Uses frequent item sets to generate association rule\n",
    "* subset of a frequent item set must also be a frequent itemset\n",
    "* Eliminates many unfrequent itemsets which reduces the number of rules drastically\n",
    "\n",
    "\n",
    "##### Frequent Itemset\n",
    "* Support value greater than threshold value\n",
    "* Threshold value specified by user / domain expert"
   ]
  },
  {
   "cell_type": "code",
   "execution_count": null,
   "id": "76b7d3a7",
   "metadata": {},
   "outputs": [],
   "source": [
    "from mlxtend.frequent_patterns import apriori, association_rules\n"
   ]
  },
  {
   "cell_type": "code",
   "execution_count": null,
   "id": "1f30a253",
   "metadata": {
    "scrolled": true
   },
   "outputs": [],
   "source": [
    "def convert(x):\n",
    "    if x <= 0.0:\n",
    "        return 0\n",
    "    if x >= 1:\n",
    "        return 1\n",
    "final_encoded_df = final_encoded_df.applymap(convert)\n",
    "final_encoded_df"
   ]
  },
  {
   "cell_type": "code",
   "execution_count": null,
   "id": "85d29ca4",
   "metadata": {
    "scrolled": true
   },
   "outputs": [],
   "source": [
    "final_encoded_df.columns"
   ]
  },
  {
   "cell_type": "code",
   "execution_count": null,
   "id": "db2171f1",
   "metadata": {},
   "outputs": [],
   "source": [
    "age_groups = list(final_encoded_df.columns)[:3]\n",
    "genders = list(final_encoded_df.columns)[4:6]\n",
    "car_ownerships = list(final_encoded_df.columns)[6:9]\n",
    "marital_status = list(final_encoded_df.columns)[9:12]\n",
    "customize_veh_likelihood =  list(final_encoded_df.columns)[12:15]\n",
    "customize_surcharge_tolerance =  list(final_encoded_df.columns)[15:19]\n",
    "design_own_component_likelihood = list(final_encoded_df.columns)[19:22]\n",
    "personalized_design_surcharge_tolerance = list(final_encoded_df.columns)[22:26]\n",
    "require_designer = list(final_encoded_df.columns)[26:29]\n",
    "purchase_factors = list(final_encoded_df.columns)[29:37]\n",
    "exterior_components = list(final_encoded_df.columns)[37:44]\n",
    "interior_components = list(final_encoded_df.columns)[44:]"
   ]
  },
  {
   "cell_type": "code",
   "execution_count": null,
   "id": "8fc7bb14",
   "metadata": {
    "scrolled": true
   },
   "outputs": [],
   "source": [
    "dataset1 = pd.concat(\n",
    "    (\n",
    "        final_encoded_df[age_groups],\n",
    "        final_encoded_df[marital_status],\n",
    "        final_encoded_df[genders],\n",
    "        final_encoded_df[exterior_components]\n",
    "    ),\n",
    "    axis = 1)\n",
    "\n",
    "dataset2 = pd.concat(\n",
    "    (\n",
    "        final_encoded_df[age_groups],\n",
    "        final_encoded_df[marital_status],\n",
    "        final_encoded_df[genders],\n",
    "        final_encoded_df[interior_components]\n",
    "    ),\n",
    "    axis = 1)\n",
    "\n",
    "dataset3 = pd.concat(\n",
    "    (\n",
    "        final_encoded_df[age_groups],\n",
    "        final_encoded_df[interior_components],\n",
    "        final_encoded_df[exterior_components]\n",
    "    ),\n",
    "    axis = 1)"
   ]
  },
  {
   "cell_type": "code",
   "execution_count": null,
   "id": "4b34b024",
   "metadata": {},
   "outputs": [],
   "source": []
  },
  {
   "cell_type": "code",
   "execution_count": null,
   "id": "881e3c7f",
   "metadata": {},
   "outputs": [],
   "source": [
    "print('Dataset 1')\n",
    "for i in np.arange(0.1, 1.0, 0.1):\n",
    "    frequent_itemsets = apriori(dataset1, min_support = i.round(2), use_colnames = True)\n",
    "    print('support: ',i.round(2),'| Unique Itemsets: ',frequent_itemsets.shape[0])\n",
    "    \n",
    "print()\n",
    "\n",
    "print('Dataset 2')\n",
    "for i in np.arange(0.1, 1.0, 0.1):\n",
    "    frequent_itemsets = apriori(dataset2, min_support = i.round(2), use_colnames = True)\n",
    "    print('support: ',i.round(2),'| Unique Itemsets: ',frequent_itemsets.shape[0])\n",
    "    \n",
    "print()\n",
    "\n",
    "print('Dataset 3')\n",
    "for i in np.arange(0.1, 1.0, 0.1):\n",
    "    frequent_itemsets = apriori(dataset3, min_support = i.round(2), use_colnames = True)\n",
    "    print('support: ',i.round(2),'| Unique Itemsets: ',frequent_itemsets.shape[0])"
   ]
  },
  {
   "cell_type": "code",
   "execution_count": null,
   "id": "a1a744b9",
   "metadata": {
    "scrolled": true
   },
   "outputs": [],
   "source": [
    "frequent_itemsets_1 = apriori(dataset1, min_support = 0.1, use_colnames = True)\n",
    "frequent_itemsets_1\n",
    "\n",
    "frequent_itemsets_2 = apriori(dataset2, min_support = 0.1, use_colnames = True)\n",
    "frequent_itemsets_2\n",
    "\n",
    "frequent_itemsets_3 = apriori(dataset3, min_support = 0.05, use_colnames = True)\n",
    "frequent_itemsets_3.shape"
   ]
  },
  {
   "cell_type": "code",
   "execution_count": null,
   "id": "0d573d2e",
   "metadata": {
    "scrolled": true
   },
   "outputs": [],
   "source": [
    "rules_1 = association_rules(frequent_itemsets_1, metric = 'lift', min_threshold = 1.5)\n",
    "# rules_1[rules_1['confidence'] > 0.8]\n",
    "rules_2 = association_rules(frequent_itemsets_2, metric = 'lift', min_threshold = 1.5)\n",
    "# rules_2[rules_2.confidence>=0.5].reset_index(drop = True)\n",
    "rules_3 = association_rules(frequent_itemsets_3, metric = 'lift', min_threshold = 1)"
   ]
  },
  {
   "cell_type": "code",
   "execution_count": null,
   "id": "56cf0321",
   "metadata": {},
   "outputs": [],
   "source": [
    "rules_3.shape"
   ]
  },
  {
   "cell_type": "code",
   "execution_count": null,
   "id": "b082a296",
   "metadata": {},
   "outputs": [],
   "source": [
    "rules_3[rules_3.confidence>=0.3].shape"
   ]
  },
  {
   "cell_type": "markdown",
   "id": "7e7c2e0e",
   "metadata": {},
   "source": [
    "### Exterior Component Association"
   ]
  },
  {
   "cell_type": "code",
   "execution_count": null,
   "id": "4a40d9d7",
   "metadata": {},
   "outputs": [],
   "source": [
    "female_consequents = list()\n",
    "male_consequents = list()\n",
    "\n",
    "female_confidence = list()\n",
    "male_confidence = list()\n",
    "\n",
    "for idx, row in rules_1[rules_1.confidence>=0.3].reset_index(drop = True).iterrows():\n",
    "    if 'gender_Female' in list(row['antecedents']):\n",
    "        for item in list(row['consequents']):\n",
    "            female_consequents.append(item)\n",
    "        female_confidence.append([list(row['consequents']), row['confidence']])\n",
    "        \n",
    "    elif 'gender_Male' in list(row['antecedents']):\n",
    "        male_confidence.append([list(row['consequents']), row['confidence']])\n",
    "        for item in list(row['consequents']):\n",
    "            male_consequents.append(item)\n",
    "\n",
    "updated_female_consequents = {k:v for k,v in Counter(female_consequents).items() if k in exterior_components}\n",
    "updated_male_consequents = {k:v for k,v in Counter(male_consequents).items() if k in exterior_components}\n",
    "\n",
    "female_side_mirrors_conf = 0\n",
    "female_wheels_conf = 0\n",
    "\n",
    "male_headlight_conf = 0\n",
    "male_bumpers_conf = 0\n",
    "male_wheels_conf = 0\n",
    "male_side_mirrors_conf = 0\n",
    "\n",
    "for i in male_confidence:\n",
    "    if 'Headlights' in i[0]:\n",
    "        male_headlight_conf += i[1]\n",
    "    elif 'Bumpers' in i[0]:\n",
    "        male_bumpers_conf += i[1]\n",
    "    elif 'Wheels' in i[0]:\n",
    "        male_wheels_conf += i[1]\n",
    "    elif 'Side mirrors' in i[0]:\n",
    "        male_side_mirrors_conf += i[1]\n",
    "\n",
    "for i in female_confidence:\n",
    "    if 'Side mirrors' in i[0]:\n",
    "        female_side_mirrors_conf += i[1]\n",
    "    elif 'Wheels' in i[0]:\n",
    "        female_wheels_conf += i[1]\n",
    "        \n",
    "exterior_male_conf = list(updated_male_consequents.values())\n",
    "exterior_female_conf = list(updated_female_consequents.values())\n",
    "\n",
    "male_headlight_conf = round(male_headlight_conf/exterior_male_conf[0],2)\n",
    "male_bumpers_conf = round(male_bumpers_conf/exterior_male_conf[1],2)\n",
    "male_wheels_conf = round(male_wheels_conf/exterior_male_conf[2],2)\n",
    "male_side_mirrors_conf = round(male_side_mirrors_conf/exterior_male_conf[3],2)\n",
    "\n",
    "female_side_mirrors_conf = round(female_side_mirrors_conf/exterior_female_conf[0],2)\n",
    "female_wheels_conf = round(female_wheels_conf/exterior_female_conf[1],2)\n",
    "\n",
    "male_conf = [male_headlight_conf,male_bumpers_conf,male_wheels_conf,male_side_mirrors_conf]\n",
    "female_conf = [female_side_mirrors_conf,female_wheels_conf]\n",
    "\n",
    "female_table_1_idx = Counter(updated_female_consequents).keys()\n",
    "female_table_1_values = Counter(updated_female_consequents).values()\n",
    "\n",
    "male_table_1_idx = Counter(updated_male_consequents).keys()\n",
    "male_table_1_values = Counter(updated_male_consequents).values()\n",
    "print('Female Exterior Component Association')\n",
    "print(tabulate(list(zip(female_table_1_idx,female_table_1_values,female_conf)),headers = ['Exterior Component','Count','Confidence'], tablefmt = 'fancy_grid'))\n",
    "print('Male Exterior Component Association')\n",
    "print(tabulate(list(zip(male_table_1_idx,male_table_1_values,male_conf)),headers = ['Exterior Component','Count','Confidence'], tablefmt = 'fancy_grid'))\n"
   ]
  },
  {
   "cell_type": "markdown",
   "id": "8a501155",
   "metadata": {},
   "source": [
    "### Interior Component Association"
   ]
  },
  {
   "cell_type": "code",
   "execution_count": null,
   "id": "3db1dcca",
   "metadata": {
    "scrolled": true
   },
   "outputs": [],
   "source": [
    "rules_2[rules_2.confidence>=0.3].shape"
   ]
  },
  {
   "cell_type": "code",
   "execution_count": null,
   "id": "8b578b97",
   "metadata": {},
   "outputs": [],
   "source": [
    "female_consequents_2 = list()\n",
    "male_consequents_2 = list()\n",
    "\n",
    "female_confidence_2 = list()\n",
    "male_confidence_2 = list()\n",
    "\n",
    "for idx, row in rules_2[rules_2.confidence>=0.3].reset_index(drop = True).iterrows():\n",
    "    if 'gender_Female' in list(row['antecedents']):\n",
    "        for item in list(row['consequents']):\n",
    "            female_consequents_2.append(item)\n",
    "        female_confidence_2.append([list(row['consequents']), row['confidence']])\n",
    "        \n",
    "    elif 'gender_Male' in list(row['antecedents']):\n",
    "        male_confidence_2.append([list(row['consequents']), row['confidence']])\n",
    "        for item in list(row['consequents']):\n",
    "            male_consequents_2.append(item)"
   ]
  },
  {
   "cell_type": "code",
   "execution_count": null,
   "id": "0237040e",
   "metadata": {},
   "outputs": [],
   "source": [
    "updated_female_consequents_2 = {k:v for k,v in Counter(female_consequents_2).items() if k in interior_components}\n",
    "updated_male_consequents_2 = {k:v for k,v in Counter(male_consequents_2).items() if k in interior_components}\n"
   ]
  },
  {
   "cell_type": "code",
   "execution_count": null,
   "id": "dfdb7d23",
   "metadata": {},
   "outputs": [],
   "source": [
    "updated_male_consequents_2"
   ]
  },
  {
   "cell_type": "code",
   "execution_count": null,
   "id": "c1152800",
   "metadata": {},
   "outputs": [],
   "source": [
    "female_doorhandles_conf = 0\n",
    "\n",
    "male_center_compart_conf = 0\n",
    "male_steering_wheel_conf = 0\n",
    "male_doorhandles_conf = 0\n",
    "male_dashboard_mirrors_conf = 0\n",
    "\n",
    "for i in male_confidence_2:\n",
    "    if 'Centre compartment' in i[0]:\n",
    "        male_center_compart_conf += i[1]\n",
    "    elif 'Steering wheel' in i[0]:\n",
    "        male_steering_wheel_conf += i[1]\n",
    "    elif 'Door handles' in i[0]:\n",
    "        male_doorhandles_conf += i[1]\n",
    "    elif 'Dashboard' in i[0]:\n",
    "        male_dashboard_mirrors_conf += i[1]\n",
    "\n",
    "for i in female_confidence_2:\n",
    "    if 'Door handles' in i[0]:\n",
    "        female_doorhandles_conf += i[1]\n",
    "        \n",
    "exterior_male_conf_2 = list(updated_male_consequents_2.values())\n",
    "exterior_female_conf_2 = list(updated_female_consequents_2.values())\n",
    "\n",
    "male_center_compart_conf = round(male_center_compart_conf/exterior_male_conf_2[0],2)\n",
    "male_steering_wheel_conf = round(male_steering_wheel_conf/exterior_male_conf_2[1],2)\n",
    "male_doorhandles_conf = round(male_doorhandles_conf/exterior_male_conf_2[2],2)\n",
    "male_dashboard_mirrors_conf = round(male_dashboard_mirrors_conf/exterior_male_conf_2[3],2)\n",
    "\n",
    "female_doorhandles_conf = round(female_doorhandles_conf/exterior_female_conf_2[0],2)\n",
    "\n",
    "male_conf_2 = [male_center_compart_conf,male_steering_wheel_conf,male_doorhandles_conf,male_dashboard_mirrors_conf]\n",
    "female_conf_2 = [female_doorhandles_conf]\n",
    "\n",
    "female_table_1_idx_2 = Counter(updated_female_consequents_2).keys()\n",
    "female_table_1_values_2 = Counter(updated_female_consequents_2).values()\n",
    "\n",
    "male_table_1_idx_2 = Counter(updated_male_consequents_2).keys()\n",
    "male_table_1_values_2 = Counter(updated_male_consequents_2).values()\n",
    "print('Female Interior Component Association')\n",
    "print(tabulate(list(zip(female_table_1_idx_2,female_table_1_values_2,female_conf_2)),headers = ['Interior Component','Count','Confidence'], tablefmt = 'fancy_grid'))\n",
    "print('Male Interior Component Association')\n",
    "print(tabulate(list(zip(male_table_1_idx_2,male_table_1_values_2,male_conf_2)),headers = ['Interior Component','Count','Confidence'], tablefmt = 'fancy_grid'))"
   ]
  },
  {
   "cell_type": "code",
   "execution_count": null,
   "id": "1573074a",
   "metadata": {},
   "outputs": [],
   "source": []
  },
  {
   "cell_type": "code",
   "execution_count": null,
   "id": "9a32cddf",
   "metadata": {
    "scrolled": true
   },
   "outputs": [],
   "source": [
    "# rules_1[rules_1['confidence'] > 0.8].reset_index(drop = True).iloc[[9,19,24]][['antecedents', 'consequents', 'confidence']]\n",
    "\n",
    "# rules_2[rules_2['confidence'] > 0.5].reset_index(drop = True).iloc[[12,17]][['antecedents', 'consequents', 'confidence']]\n",
    "\n",
    "# rules_2[rules_2['confidence'] > 0.5].reset_index(drop = True).iloc[[20,22,27]][['antecedents', 'consequents', 'confidence']]"
   ]
  },
  {
   "cell_type": "markdown",
   "id": "7fd03f77",
   "metadata": {},
   "source": [
    "### Age_Group Association"
   ]
  },
  {
   "cell_type": "code",
   "execution_count": null,
   "id": "8bcbe3d4",
   "metadata": {},
   "outputs": [],
   "source": [
    "age_groups"
   ]
  },
  {
   "cell_type": "code",
   "execution_count": null,
   "id": "625c653e",
   "metadata": {},
   "outputs": [],
   "source": [
    "age20_30_consequents = list()\n",
    "age31_40_consequents = list()\n",
    "age41_50_consequents = list()\n",
    "\n",
    "age20_30_confidence = list()\n",
    "age31_40_confidence = list()\n",
    "age41_50_confidence = list()\n",
    "\n",
    "for idx, row in rules_3[rules_3.confidence>=0.01].reset_index(drop = True).iterrows():\n",
    "    if 'age_group_20-30' in list(row['antecedents']):\n",
    "        for item in list(row['consequents']):\n",
    "            age20_30_consequents.append(item)\n",
    "        age20_30_confidence.append([list(row['consequents']), row['confidence']])\n",
    "        \n",
    "    elif 'age_group_31-40' in list(row['antecedents']):\n",
    "        for item in list(row['consequents']):\n",
    "            age31_40_consequents.append(item)\n",
    "        age31_40_confidence.append([list(row['consequents']), row['confidence']])\n",
    "                \n",
    "    elif 'age_group_41-50' in list(row['antecedents']):\n",
    "        for item in list(row['consequents']):\n",
    "            age41_50_consequents.append(item)\n",
    "        age41_50_confidence.append([list(row['consequents']), row['confidence']])"
   ]
  },
  {
   "cell_type": "code",
   "execution_count": null,
   "id": "2fa06fa6",
   "metadata": {},
   "outputs": [],
   "source": [
    "updated_20_30_consequents = {k:v for k,v in Counter(age20_30_consequents).items() if (k in interior_components or k in exterior_components)}\n",
    "updated_31_40_consequents = {k:v for k,v in Counter(age31_40_consequents).items() if (k in interior_components or k in exterior_components)}\n",
    "updated_41_50_consequents = {k:v for k,v in Counter(age41_50_consequents).items() if (k in interior_components or k in exterior_components)}"
   ]
  },
  {
   "cell_type": "code",
   "execution_count": null,
   "id": "7e68612c",
   "metadata": {},
   "outputs": [],
   "source": [
    "age20_30_Centre_compart_conf = 0\n",
    "age20_30_door_conf = 0\n",
    "age20_30_steering_conf = 0\n",
    "age20_30_headlight_conf = 0\n",
    "age20_30_sidemirror_conf = 0\n",
    "age20_30_wheels_conf = 0\n",
    "age20_30_bumpers_conf = 0\n",
    "age20_30_dashboard_conf = 0\n",
    "age20_30_grills_conf = 0\n",
    "\n",
    "age31_40_dashboard_conf = 0\n",
    "age31_40_grilles_conf = 0\n",
    "age31_40_wheels_conf = 0\n",
    "\n",
    "age41_50_steering_conf = 0\n",
    "age41_50_bumpers_conf = 0\n",
    "age41_50_headlight_conf = 0\n",
    "age41_50_wheels_conf = 0\n",
    "age41_50_dashboard_conf = 0\n",
    "\n",
    "\n",
    "for i in age20_30_confidence:\n",
    "    if 'Centre compartment' in i[0]:\n",
    "        age20_30_Centre_compart_conf += i[1]\n",
    "    if 'Door handles' in i[0]:\n",
    "        age20_30_door_conf += i[1]\n",
    "    if 'Steering wheel' in i[0]:\n",
    "        age20_30_steering_conf += i[1]\n",
    "    if 'Headlights' in i[0]:\n",
    "        age20_30_headlight_conf += i[1]\n",
    "    if 'Side mirrors' in i[0]:\n",
    "        age20_30_sidemirror_conf += i[1]\n",
    "    if 'Wheels' in i[0]:\n",
    "        age20_30_wheels_conf += i[1]\n",
    "    if 'Bumpers' in i[0]:\n",
    "        age20_30_bumpers_conf += i[1]\n",
    "    if 'Dashboard' in i[0]:\n",
    "        age20_30_dashboard_conf += i[1]\n",
    "    if 'Grilles' in i[0]:\n",
    "        age20_30_grills_conf += i[1]\n",
    "\n",
    "for i in age31_40_confidence:\n",
    "    if 'Wheels' in i[0]:\n",
    "        age31_40_wheels_conf += i[1]\n",
    "    if 'Dashboard' in i[0]:\n",
    "        age31_40_dashboard_conf += i[1]\n",
    "    if 'Grilles' in i[0]:\n",
    "        age31_40_grilles_conf += i[1]\n",
    "\n",
    "for i in age41_50_confidence:\n",
    "    if 'Steering wheel' in i[0]:\n",
    "        age41_50_steering_conf += i[1]\n",
    "    if 'Headlights' in i[0]:\n",
    "        age41_50_headlight_conf += i[1]\n",
    "    if 'Wheels' in i[0]:\n",
    "        age41_50_wheels_conf += i[1]\n",
    "    if 'Bumpers' in i[0]:\n",
    "        age41_50_bumpers_conf += i[1]\n",
    "    if 'Dashboard' in i[0]:\n",
    "        age41_50_dashboard_conf += i[1]\n",
    "\n",
    "age20_30_conf = list(updated_20_30_consequents.values())\n",
    "age31_40_conf = list(updated_31_40_consequents.values())\n",
    "age41_50_conf = list(updated_41_50_consequents.values())\n",
    "\n",
    "age20_30_Centre_compart_conf  = round(age20_30_Centre_compart_conf/age20_30_conf[0],2)\n",
    "age20_30_door_conf  = round(age20_30_door_conf/age20_30_conf[1],2)\n",
    "age20_30_steering_conf  = round(age20_30_steering_conf/age20_30_conf[2],2)\n",
    "age20_30_headlight_conf  = round(age20_30_headlight_conf/age20_30_conf[3],2)\n",
    "age20_30_sidemirror_conf   = round(age20_30_sidemirror_conf/age20_30_conf[4],2)\n",
    "age20_30_wheels_conf   = round(age20_30_wheels_conf/age20_30_conf[5],2)\n",
    "age20_30_bumpers_conf   = round(age20_30_bumpers_conf/age20_30_conf[6],2)\n",
    "age20_30_dashboard_conf    = round(age20_30_dashboard_conf/age20_30_conf[7],2)\n",
    "age20_30_grills_conf   = round(age20_30_grills_conf/age20_30_conf[8],2)\n",
    "\n",
    "age31_40_dashboard_conf   = round(age31_40_dashboard_conf/age31_40_conf[0],2)\n",
    "age31_40_wheels_conf    = round(age31_40_wheels_conf/age31_40_conf[1],2)\n",
    "age31_40_grilles_conf   = round(age31_40_grilles_conf/age31_40_conf[2],2)\n",
    "\n",
    "age41_50_steering_conf  = round(age41_50_steering_conf/age41_50_conf[0],2)\n",
    "age41_50_bumpers_conf   = round(age41_50_bumpers_conf/age41_50_conf[1],2)\n",
    "age41_50_headlight_conf  = round(age41_50_headlight_conf/age41_50_conf[2],2)\n",
    "age41_50_wheels_conf   = round(age41_50_wheels_conf/age41_50_conf[3],2)\n",
    "age41_50_dashboard_conf    = round(age41_50_dashboard_conf/age41_50_conf[4],2)\n",
    "\n",
    "\n",
    "age_2030_conf = [age20_30_Centre_compart_conf,age20_30_door_conf,age20_30_steering_conf,age20_30_headlight_conf,\n",
    "                age20_30_sidemirror_conf,age20_30_wheels_conf,age20_30_bumpers_conf,age20_30_dashboard_conf,age20_30_grills_conf]\n",
    "\n",
    "age_3140_conf = [age31_40_wheels_conf,age31_40_dashboard_conf,age31_40_grilles_conf]\n",
    "\n",
    "age_4150_conf = [age41_50_steering_conf,age41_50_bumpers_conf,age41_50_headlight_conf,age41_50_wheels_conf,age41_50_dashboard_conf]\n",
    "\n",
    "\n",
    "age2030_table_idx = Counter(updated_20_30_consequents).keys()\n",
    "age2030_table_values = Counter(updated_20_30_consequents).values()\n",
    "\n",
    "age3140_table_idx = Counter(updated_31_40_consequents).keys()\n",
    "age3140_table_values = Counter(updated_31_40_consequents).values()\n",
    "\n",
    "age4150_table_idx = Counter(updated_41_50_consequents).keys()\n",
    "age4150_table_values = Counter(updated_41_50_consequents).values()\n",
    "\n",
    "print('Age 20-30 Components')\n",
    "print(tabulate(list(zip(age2030_table_idx,age2030_table_values,age_2030_conf)),headers = ['Interior Component','Count','Confidence'], tablefmt = 'fancy_grid'))\n",
    "print('Age 31-40 Components')\n",
    "print(tabulate(list(zip(age3140_table_idx,age3140_table_values,age_3140_conf)),headers = ['Interior Component','Count','Confidence'], tablefmt = 'fancy_grid'))\n",
    "print('Age 41-50 Components')\n",
    "print(tabulate(list(zip(age4150_table_idx,age4150_table_values,age_4150_conf)),headers = ['Interior Component','Count','Confidence'], tablefmt = 'fancy_grid'))"
   ]
  },
  {
   "cell_type": "code",
   "execution_count": null,
   "id": "09b7c1f5",
   "metadata": {},
   "outputs": [],
   "source": []
  }
 ],
 "metadata": {
  "kernelspec": {
   "display_name": "Python 3 (ipykernel)",
   "language": "python",
   "name": "python3"
  },
  "language_info": {
   "codemirror_mode": {
    "name": "ipython",
    "version": 3
   },
   "file_extension": ".py",
   "mimetype": "text/x-python",
   "name": "python",
   "nbconvert_exporter": "python",
   "pygments_lexer": "ipython3",
   "version": "3.9.7"
  },
  "vscode": {
   "interpreter": {
    "hash": "ae84f527dddc6d3829bfdd35448c0cb7a74f57078052fed85c77a1696ae1e557"
   }
  }
 },
 "nbformat": 4,
 "nbformat_minor": 5
}
